{
 "cells": [
  {
   "cell_type": "markdown",
   "id": "e3ccd5c4-72d8-4bac-a80d-54840e4f267f",
   "metadata": {},
   "source": [
    "# Proyecto ANOVA Tercer Parcial"
   ]
  },
  {
   "cell_type": "markdown",
   "id": "26cae74b-b9c5-4961-897b-65bde9d22e4a",
   "metadata": {},
   "source": [
    "## Dylan Hernández Rojas"
   ]
  },
  {
   "cell_type": "code",
   "execution_count": 1,
   "id": "8d8b74a3-2890-4a65-bc41-058e907c8ba3",
   "metadata": {},
   "outputs": [],
   "source": [
    "import pandas as pd\n",
    "import numpy as np\n",
    "from scipy import stats\n",
    "from scipy import special"
   ]
  },
  {
   "cell_type": "markdown",
   "id": "c25eb9d1-2c85-4233-bf16-5de6956304d1",
   "metadata": {},
   "source": [
    "Importamos primero la información desde el csv:"
   ]
  },
  {
   "cell_type": "code",
   "execution_count": 2,
   "id": "ca4c526d-9e00-48b4-8542-08a8e61ebdcc",
   "metadata": {},
   "outputs": [],
   "source": [
    "csv_path = 'https://github.com/dylanhrojas/AnovaProjectInegi/raw/main/indice_de_remuneraciones_por_persona_por_subsector.csv'\n",
    "raw_df = pd.read_csv(csv_path)"
   ]
  },
  {
   "cell_type": "markdown",
   "id": "6afc5bdd-f1e8-4a38-bbb8-44e84f7aaa32",
   "metadata": {},
   "source": [
    "Se obtienen los índices de:\n",
    "- Fabricación de maquinaria y equipo\n",
    "- Fabricación de equipo de transporte\n",
    "- Fabricación de muebles, colchones y persianas\n",
    "\n",
    "Se toman del $[14,26)$ debido a que se toman los 12 índices del año 2023."
   ]
  },
  {
   "cell_type": "code",
   "execution_count": 3,
   "id": "76faa5fa-e462-46e3-a084-331ecca04cd2",
   "metadata": {},
   "outputs": [
    {
     "data": {
      "text/plain": [
       "14    5.1\n",
       "15    1.3\n",
       "16    2.7\n",
       "17    1.7\n",
       "18    6.1\n",
       "19    4.5\n",
       "20    5.4\n",
       "21    8.6\n",
       "22    1.9\n",
       "23    3.1\n",
       "24    6.0\n",
       "25    3.0\n",
       "Name: Fabricacion de maquinaria y equipo, dtype: float64"
      ]
     },
     "execution_count": 3,
     "metadata": {},
     "output_type": "execute_result"
    }
   ],
   "source": [
    "fabricacion_de_maquinaria_y_equipo = raw_df['Fabricacion de maquinaria y equipo']\n",
    "fabricacion_de_maquinaria_y_equipo_2023 = fabricacion_de_maquinaria_y_equipo.iloc[14:26]\n",
    "fabricacion_de_maquinaria_y_equipo_2023"
   ]
  },
  {
   "cell_type": "markdown",
   "id": "4ceaa6d4-085a-4414-8b37-52963d3cd88f",
   "metadata": {},
   "source": [
    "Por cada uno se realiza una muestra."
   ]
  },
  {
   "cell_type": "code",
   "execution_count": 4,
   "id": "c682580a-e423-48c6-bc6b-40b55b3bbd15",
   "metadata": {},
   "outputs": [
    {
     "data": {
      "text/plain": [
       "0    2.7\n",
       "1    1.7\n",
       "2    6.1\n",
       "3    6.0\n",
       "4    1.3\n",
       "Name: Fabricacion de maquinaria y equipo, dtype: float64"
      ]
     },
     "execution_count": 4,
     "metadata": {},
     "output_type": "execute_result"
    }
   ],
   "source": [
    "fabricacion_de_maquinaria_y_equipo_2023_sample = fabricacion_de_maquinaria_y_equipo_2023.sample(n=5, random_state=1, ignore_index=True)\n",
    "fabricacion_de_maquinaria_y_equipo_2023_sample"
   ]
  },
  {
   "cell_type": "code",
   "execution_count": 5,
   "id": "61d647da-4935-4654-8171-376d71acc630",
   "metadata": {},
   "outputs": [
    {
     "data": {
      "text/plain": [
       "14    2.1\n",
       "15    2.7\n",
       "16    6.7\n",
       "17    3.0\n",
       "18    7.6\n",
       "19    6.4\n",
       "20    3.5\n",
       "21    6.5\n",
       "22    3.8\n",
       "23    6.8\n",
       "24    8.9\n",
       "25    3.6\n",
       "Name: Fabricación de equipo de transporte, dtype: float64"
      ]
     },
     "execution_count": 5,
     "metadata": {},
     "output_type": "execute_result"
    }
   ],
   "source": [
    "fabricacion_de_equipo_de_transporte = raw_df['Fabricación de equipo de transporte']\n",
    "fabricacion_de_equipo_de_transporte_2023 = fabricacion_de_equipo_de_transporte.iloc[14:26]\n",
    "fabricacion_de_equipo_de_transporte_2023 "
   ]
  },
  {
   "cell_type": "code",
   "execution_count": 6,
   "id": "9aea6b40-3f37-4450-8791-8c094d0a0179",
   "metadata": {},
   "outputs": [
    {
     "data": {
      "text/plain": [
       "0    6.7\n",
       "1    3.0\n",
       "2    7.6\n",
       "3    8.9\n",
       "Name: Fabricación de equipo de transporte, dtype: float64"
      ]
     },
     "execution_count": 6,
     "metadata": {},
     "output_type": "execute_result"
    }
   ],
   "source": [
    "fabricacion_de_equipo_de_transporte_2023_sample = fabricacion_de_equipo_de_transporte_2023.sample(n=4, random_state=1, ignore_index=True)\n",
    "fabricacion_de_equipo_de_transporte_2023_sample "
   ]
  },
  {
   "cell_type": "code",
   "execution_count": 7,
   "id": "419b2868-8334-4b2f-ac37-078ae68c389a",
   "metadata": {},
   "outputs": [
    {
     "data": {
      "text/plain": [
       "14    11.4\n",
       "15     8.0\n",
       "16     9.7\n",
       "17     8.6\n",
       "18    12.4\n",
       "19    10.9\n",
       "20     7.5\n",
       "21    13.8\n",
       "22     5.4\n",
       "23     9.3\n",
       "24    12.3\n",
       "25     7.8\n",
       "Name: Fabricación de muebles, colchones y persianas, dtype: float64"
      ]
     },
     "execution_count": 7,
     "metadata": {},
     "output_type": "execute_result"
    }
   ],
   "source": [
    "fabricacion_de_muebles_colchones_y_persianas = raw_df['Fabricación de muebles, colchones y persianas']\n",
    "fabricacion_de_muebles_colchones_y_persianas_2023 = fabricacion_de_muebles_colchones_y_persianas.iloc[14:26]\n",
    "fabricacion_de_muebles_colchones_y_persianas_2023"
   ]
  },
  {
   "cell_type": "code",
   "execution_count": 8,
   "id": "29e06cb6-ef17-43d1-8ec1-7ac0cc0880be",
   "metadata": {},
   "outputs": [
    {
     "data": {
      "text/plain": [
       "0     9.7\n",
       "1     8.6\n",
       "2    12.4\n",
       "3    12.3\n",
       "4     8.0\n",
       "Name: Fabricación de muebles, colchones y persianas, dtype: float64"
      ]
     },
     "execution_count": 8,
     "metadata": {},
     "output_type": "execute_result"
    }
   ],
   "source": [
    "fabricacion_de_muebles_colchones_y_persianas_2023_sample = fabricacion_de_muebles_colchones_y_persianas_2023.sample(n=5, random_state=1, ignore_index = True)\n",
    "fabricacion_de_muebles_colchones_y_persianas_2023_sample"
   ]
  },
  {
   "cell_type": "markdown",
   "id": "1563a10c-d830-48bd-b78a-9dd0dcd219b4",
   "metadata": {},
   "source": [
    "Se crea un DataFrame con la información de las muestras."
   ]
  },
  {
   "cell_type": "code",
   "execution_count": 9,
   "id": "0288dcbe-f561-4b86-a7b7-7a1870fb3a06",
   "metadata": {},
   "outputs": [
    {
     "data": {
      "text/html": [
       "<div>\n",
       "<style scoped>\n",
       "    .dataframe tbody tr th:only-of-type {\n",
       "        vertical-align: middle;\n",
       "    }\n",
       "\n",
       "    .dataframe tbody tr th {\n",
       "        vertical-align: top;\n",
       "    }\n",
       "\n",
       "    .dataframe thead th {\n",
       "        text-align: right;\n",
       "    }\n",
       "</style>\n",
       "<table border=\"1\" class=\"dataframe\">\n",
       "  <thead>\n",
       "    <tr style=\"text-align: right;\">\n",
       "      <th></th>\n",
       "      <th>A</th>\n",
       "      <th>B</th>\n",
       "      <th>C</th>\n",
       "    </tr>\n",
       "  </thead>\n",
       "  <tbody>\n",
       "    <tr>\n",
       "      <th>0</th>\n",
       "      <td>2.7</td>\n",
       "      <td>6.7</td>\n",
       "      <td>9.7</td>\n",
       "    </tr>\n",
       "    <tr>\n",
       "      <th>1</th>\n",
       "      <td>1.7</td>\n",
       "      <td>3.0</td>\n",
       "      <td>8.6</td>\n",
       "    </tr>\n",
       "    <tr>\n",
       "      <th>2</th>\n",
       "      <td>6.1</td>\n",
       "      <td>7.6</td>\n",
       "      <td>12.4</td>\n",
       "    </tr>\n",
       "    <tr>\n",
       "      <th>3</th>\n",
       "      <td>6.0</td>\n",
       "      <td>8.9</td>\n",
       "      <td>12.3</td>\n",
       "    </tr>\n",
       "    <tr>\n",
       "      <th>4</th>\n",
       "      <td>1.3</td>\n",
       "      <td>NaN</td>\n",
       "      <td>8.0</td>\n",
       "    </tr>\n",
       "  </tbody>\n",
       "</table>\n",
       "</div>"
      ],
      "text/plain": [
       "     A    B     C\n",
       "0  2.7  6.7   9.7\n",
       "1  1.7  3.0   8.6\n",
       "2  6.1  7.6  12.4\n",
       "3  6.0  8.9  12.3\n",
       "4  1.3  NaN   8.0"
      ]
     },
     "execution_count": 9,
     "metadata": {},
     "output_type": "execute_result"
    }
   ],
   "source": [
    "data = {\n",
    "    'A': fabricacion_de_maquinaria_y_equipo_2023_sample,\n",
    "    'B': fabricacion_de_equipo_de_transporte_2023_sample,\n",
    "    'C': fabricacion_de_muebles_colchones_y_persianas_2023_sample\n",
    "}\n",
    "\n",
    "df = pd.DataFrame(dict([(k, pd.Series(v)) for k, v in data.items()]))\n",
    "df"
   ]
  },
  {
   "cell_type": "markdown",
   "id": "23c19e0d-0c6c-450a-9a7b-aa73603e07f0",
   "metadata": {},
   "source": [
    "$H_0$: $\\mu_A = \\mu_B = \\mu_C$"
   ]
  },
  {
   "cell_type": "markdown",
   "id": "9a3e8c8f-25f8-4c4f-9d54-7c2ad31e71d1",
   "metadata": {},
   "source": [
    "$H_a$: Por lo menos un índice es diferente "
   ]
  },
  {
   "cell_type": "markdown",
   "id": "7a99c71e-9b81-496f-bb3e-84192d26a30d",
   "metadata": {},
   "source": [
    "$\\alpha = 0.05$"
   ]
  },
  {
   "cell_type": "code",
   "execution_count": 10,
   "id": "89462f28-9270-41f2-988e-f1b48a3cfddc",
   "metadata": {},
   "outputs": [
    {
     "data": {
      "text/plain": [
       "A     3.56\n",
       "B     6.55\n",
       "C    10.20\n",
       "dtype: float64"
      ]
     },
     "execution_count": 10,
     "metadata": {},
     "output_type": "execute_result"
    }
   ],
   "source": [
    "grand_mean = df.stack().mean()\n",
    "means = df.mean()\n",
    "means"
   ]
  },
  {
   "cell_type": "code",
   "execution_count": 11,
   "id": "1cd1cbd5-146b-4a72-a7d5-c9ce9354837d",
   "metadata": {},
   "outputs": [],
   "source": [
    "k = len(data)\n",
    "n = df.count().sum()"
   ]
  },
  {
   "cell_type": "markdown",
   "id": "dc567190-e0d0-4224-93f9-e7be8696bf95",
   "metadata": {},
   "source": [
    "*Between Groups*"
   ]
  },
  {
   "cell_type": "code",
   "execution_count": 12,
   "id": "24e039bc-1de0-4f93-b1d4-db4f3e92fd85",
   "metadata": {},
   "outputs": [],
   "source": [
    "between_ss = sum(df.count()[group] * (mean - grand_mean)**2 for group, mean in means.items())\n",
    "between_df = k - 1\n",
    "between_ms = between_ss / between_df"
   ]
  },
  {
   "cell_type": "markdown",
   "id": "4850049e-5e7a-453e-84a9-866783a8d925",
   "metadata": {},
   "source": [
    "*Within Groups*"
   ]
  },
  {
   "cell_type": "code",
   "execution_count": 13,
   "id": "d93cfd19-6cb8-40a3-a97d-612ea24c1007",
   "metadata": {},
   "outputs": [],
   "source": [
    "within_ss = sum(((df[group] - means[group])**2).sum() for group in df)\n",
    "within_df = n - k\n",
    "within_ms = within_ss / within_df"
   ]
  },
  {
   "cell_type": "markdown",
   "id": "5092f02d-40c0-416e-a291-0c0b4c4b2ac2",
   "metadata": {},
   "source": [
    "*Valor de F y P*"
   ]
  },
  {
   "cell_type": "code",
   "execution_count": 14,
   "id": "e693800c-d351-4aad-8992-d8bbf29b6862",
   "metadata": {},
   "outputs": [],
   "source": [
    "f = between_ms / within_ms"
   ]
  },
  {
   "cell_type": "code",
   "execution_count": 15,
   "id": "4a71a647-a707-48bb-971a-ec3dc05e5513",
   "metadata": {},
   "outputs": [],
   "source": [
    "p = 1 - stats.f.cdf(f, between_df, within_df)"
   ]
  },
  {
   "cell_type": "markdown",
   "id": "6b72088f-de40-4444-8a47-4693738f7397",
   "metadata": {},
   "source": [
    "*Total*"
   ]
  },
  {
   "cell_type": "code",
   "execution_count": 16,
   "id": "4cb7dc25-f369-4142-a868-e37cbebb8c06",
   "metadata": {},
   "outputs": [],
   "source": [
    "total_ss = between_ss + within_ss\n",
    "total_df = n -1"
   ]
  },
  {
   "cell_type": "markdown",
   "id": "a5f6f921-f897-4455-be80-e105023996c3",
   "metadata": {},
   "source": [
    "**Creación de DataFrame ANOVA**"
   ]
  },
  {
   "cell_type": "code",
   "execution_count": 17,
   "id": "fb7a561a-0110-4785-ad6b-bdda71f9516b",
   "metadata": {},
   "outputs": [
    {
     "data": {
      "text/html": [
       "<div>\n",
       "<style scoped>\n",
       "    .dataframe tbody tr th:only-of-type {\n",
       "        vertical-align: middle;\n",
       "    }\n",
       "\n",
       "    .dataframe tbody tr th {\n",
       "        vertical-align: top;\n",
       "    }\n",
       "\n",
       "    .dataframe thead th {\n",
       "        text-align: right;\n",
       "    }\n",
       "</style>\n",
       "<table border=\"1\" class=\"dataframe\">\n",
       "  <thead>\n",
       "    <tr style=\"text-align: right;\">\n",
       "      <th></th>\n",
       "      <th>Source of variation</th>\n",
       "      <th>SS</th>\n",
       "      <th>df</th>\n",
       "      <th>MS</th>\n",
       "      <th>F</th>\n",
       "      <th>P</th>\n",
       "    </tr>\n",
       "  </thead>\n",
       "  <tbody>\n",
       "    <tr>\n",
       "      <th>0</th>\n",
       "      <td>Between Groups</td>\n",
       "      <td>110.535143</td>\n",
       "      <td>2</td>\n",
       "      <td>55.267571</td>\n",
       "      <td>10.50678</td>\n",
       "      <td>0.002808</td>\n",
       "    </tr>\n",
       "    <tr>\n",
       "      <th>1</th>\n",
       "      <td>Within Groups</td>\n",
       "      <td>57.862000</td>\n",
       "      <td>11</td>\n",
       "      <td>5.260182</td>\n",
       "      <td>0.00000</td>\n",
       "      <td>0.000000</td>\n",
       "    </tr>\n",
       "    <tr>\n",
       "      <th>2</th>\n",
       "      <td>Total</td>\n",
       "      <td>168.397143</td>\n",
       "      <td>13</td>\n",
       "      <td>0.000000</td>\n",
       "      <td>0.00000</td>\n",
       "      <td>0.000000</td>\n",
       "    </tr>\n",
       "  </tbody>\n",
       "</table>\n",
       "</div>"
      ],
      "text/plain": [
       "  Source of variation          SS  df         MS         F         P\n",
       "0      Between Groups  110.535143   2  55.267571  10.50678  0.002808\n",
       "1       Within Groups   57.862000  11   5.260182   0.00000  0.000000\n",
       "2               Total  168.397143  13   0.000000   0.00000  0.000000"
      ]
     },
     "execution_count": 17,
     "metadata": {},
     "output_type": "execute_result"
    }
   ],
   "source": [
    "anova_df = pd.DataFrame(\n",
    "    {\n",
    "        'Source of variation': ['Between Groups', 'Within Groups', 'Total'],\n",
    "        'SS': [between_ss, within_ss, total_ss],\n",
    "        'df': [between_df, within_df, total_df],\n",
    "        'MS': [between_ms, within_ms, 0],\n",
    "        'F' : [f, 0, 0],\n",
    "        'P' : [p, 0, 0]\n",
    "    }\n",
    ")\n",
    "anova_df"
   ]
  },
  {
   "cell_type": "markdown",
   "id": "402b0e14-f73c-4e2b-87f8-9c09ea04ae3d",
   "metadata": {},
   "source": [
    "En este caso tenemos que $\\alpha$=0.05. Por lo tanto podemos decir que 0.002808 (valor de P obtenido) < 0.05.\n",
    "En conclusión, se rechaza $H_0$"
   ]
  },
  {
   "cell_type": "markdown",
   "id": "17f6972f-decf-4612-a486-8bade3584905",
   "metadata": {},
   "source": [
    "## Prueba LSD"
   ]
  },
  {
   "cell_type": "code",
   "execution_count": 18,
   "id": "189861c7-b5ca-4c1b-b84c-52ab439f30d6",
   "metadata": {},
   "outputs": [
    {
     "data": {
      "text/plain": [
       "np.float64(2.200985160082949)"
      ]
     },
     "execution_count": 18,
     "metadata": {},
     "output_type": "execute_result"
    }
   ],
   "source": [
    "t = abs(special.stdtrit(within_df, 0.025))\n",
    "t"
   ]
  },
  {
   "cell_type": "markdown",
   "id": "e4900854-884c-436a-be99-3e22d8961274",
   "metadata": {},
   "source": [
    "Valores LSD (en este caso hay tres)"
   ]
  },
  {
   "cell_type": "code",
   "execution_count": 19,
   "id": "8247cd05-ca05-4f4f-aaba-967a662a331b",
   "metadata": {},
   "outputs": [
    {
     "data": {
      "text/plain": [
       "np.float64(3.3862868893875535)"
      ]
     },
     "execution_count": 19,
     "metadata": {},
     "output_type": "execute_result"
    }
   ],
   "source": [
    "lsd1 = t * np.sqrt(within_ms*(1/(df['A'].count()) + 1/(df['B'].count())))\n",
    "lsd1"
   ]
  },
  {
   "cell_type": "code",
   "execution_count": 20,
   "id": "b6829358-0da4-4e9b-be0e-3b20706bbce7",
   "metadata": {},
   "outputs": [
    {
     "data": {
      "text/plain": [
       "np.float64(3.3862868893875535)"
      ]
     },
     "execution_count": 20,
     "metadata": {},
     "output_type": "execute_result"
    }
   ],
   "source": [
    "lsd2 = t * np.sqrt(within_ms*(1/(df['B'].count()) + 1/(df['C'].count())))\n",
    "lsd2"
   ]
  },
  {
   "cell_type": "code",
   "execution_count": 21,
   "id": "1b0a52ab-b227-4948-af22-af9ef2ac5515",
   "metadata": {},
   "outputs": [
    {
     "data": {
      "text/plain": [
       "np.float64(3.192621896705386)"
      ]
     },
     "execution_count": 21,
     "metadata": {},
     "output_type": "execute_result"
    }
   ],
   "source": [
    "lsd3 = t * np.sqrt(within_ms*(1/(df['A'].count()) + 1/(df['C'].count())))\n",
    "lsd3"
   ]
  },
  {
   "cell_type": "code",
   "execution_count": 22,
   "id": "257b4fa5-e059-42f0-af78-6a1c648f0ed6",
   "metadata": {},
   "outputs": [],
   "source": [
    "x1, x2, x3 = means.iloc[:3]"
   ]
  },
  {
   "cell_type": "markdown",
   "id": "907d86da-4e45-42ce-8ff2-347848e3c291",
   "metadata": {},
   "source": [
    "*Prueba 1*"
   ]
  },
  {
   "cell_type": "markdown",
   "id": "4fcc790f-0b0b-48d1-83bb-e8f2393b92d7",
   "metadata": {},
   "source": [
    "$H_0$: $\\mu_A = \\mu_B$"
   ]
  },
  {
   "cell_type": "markdown",
   "id": "2822caf8-8c4b-42cd-bf89-55b0e4c8db3e",
   "metadata": {},
   "source": [
    "$H_a$: $\\mu_A$ $\\neq$ $\\mu_B$"
   ]
  },
  {
   "cell_type": "markdown",
   "id": "87d5f836-e9b0-4d08-b9b8-d178da1641a3",
   "metadata": {},
   "source": [
    "$\\bar{x}_1$"
   ]
  },
  {
   "cell_type": "code",
   "execution_count": 23,
   "id": "5515a736-b373-4818-9a4d-e6b71e53f425",
   "metadata": {},
   "outputs": [
    {
     "data": {
      "text/plain": [
       "3.56"
      ]
     },
     "execution_count": 23,
     "metadata": {},
     "output_type": "execute_result"
    }
   ],
   "source": [
    "x1"
   ]
  },
  {
   "cell_type": "markdown",
   "id": "035caab7-1265-4513-9334-5aac6b4d7b35",
   "metadata": {},
   "source": [
    "$\\bar{x}_2$"
   ]
  },
  {
   "cell_type": "code",
   "execution_count": 24,
   "id": "39218af2-8878-4739-9131-d1654c5faa89",
   "metadata": {},
   "outputs": [
    {
     "data": {
      "text/plain": [
       "6.549999999999999"
      ]
     },
     "execution_count": 24,
     "metadata": {},
     "output_type": "execute_result"
    }
   ],
   "source": [
    "x2"
   ]
  },
  {
   "cell_type": "markdown",
   "id": "280c60bd-d1d8-42f0-b9f4-dcc69e521710",
   "metadata": {},
   "source": [
    "*Regla de decisión*"
   ]
  },
  {
   "cell_type": "code",
   "execution_count": 25,
   "id": "601d42c1-6396-4bbe-bc69-387641e62692",
   "metadata": {},
   "outputs": [
    {
     "data": {
      "text/plain": [
       "np.False_"
      ]
     },
     "execution_count": 25,
     "metadata": {},
     "output_type": "execute_result"
    }
   ],
   "source": [
    "abs(x1 - x2) > lsd1"
   ]
  },
  {
   "cell_type": "markdown",
   "id": "26e445f5-b72b-4942-bf80-16698e6d232f",
   "metadata": {},
   "source": [
    "$\\therefore$ no se rechaza $H_0$"
   ]
  },
  {
   "cell_type": "markdown",
   "id": "328de999-9d4a-4a25-a448-d4865cd20194",
   "metadata": {},
   "source": [
    "Índices de remuneración $\\mu_A$ y $\\mu_B$ son iguales."
   ]
  },
  {
   "cell_type": "markdown",
   "id": "c8a3a9a5-1626-46ad-b2ea-b47e89a41771",
   "metadata": {},
   "source": [
    "*Prueba 2*"
   ]
  },
  {
   "cell_type": "markdown",
   "id": "31f07ebc-a7a9-4a29-8831-7bd233a4b859",
   "metadata": {},
   "source": [
    "$H_0$: $\\mu_B = \\mu_C$"
   ]
  },
  {
   "cell_type": "markdown",
   "id": "be4eafdd-f423-44f5-9622-5d601516c9a2",
   "metadata": {},
   "source": [
    "$H_a$: $\\mu_B$ $\\neq$ $\\mu_C$"
   ]
  },
  {
   "cell_type": "markdown",
   "id": "d7f5e060-7b9e-47f5-9a68-379dc8348dea",
   "metadata": {},
   "source": [
    "$\\bar{x}_2$"
   ]
  },
  {
   "cell_type": "code",
   "execution_count": 26,
   "id": "5c70ce04-457f-4177-aa6a-b49979d535d2",
   "metadata": {},
   "outputs": [
    {
     "data": {
      "text/plain": [
       "6.549999999999999"
      ]
     },
     "execution_count": 26,
     "metadata": {},
     "output_type": "execute_result"
    }
   ],
   "source": [
    "x2"
   ]
  },
  {
   "cell_type": "markdown",
   "id": "39da82a8-2986-4294-9bc8-221298f77346",
   "metadata": {},
   "source": [
    "$\\bar{x}_3$"
   ]
  },
  {
   "cell_type": "code",
   "execution_count": 27,
   "id": "e8f63f61-d75b-4cca-bde8-18313287ae44",
   "metadata": {},
   "outputs": [
    {
     "data": {
      "text/plain": [
       "10.2"
      ]
     },
     "execution_count": 27,
     "metadata": {},
     "output_type": "execute_result"
    }
   ],
   "source": [
    "x3"
   ]
  },
  {
   "cell_type": "code",
   "execution_count": 28,
   "id": "930b5b19-4c9d-4e1a-8e0c-10ecc69055f4",
   "metadata": {},
   "outputs": [
    {
     "data": {
      "text/plain": [
       "np.True_"
      ]
     },
     "execution_count": 28,
     "metadata": {},
     "output_type": "execute_result"
    }
   ],
   "source": [
    "abs(x2 - x3) > lsd2"
   ]
  },
  {
   "cell_type": "markdown",
   "id": "81d9fa8b-860e-4ce6-96b8-23da7c5971d7",
   "metadata": {},
   "source": [
    "$\\therefore$ se rechaza $H_0$"
   ]
  },
  {
   "cell_type": "markdown",
   "id": "ab559efc-e1aa-4603-a145-5ed681cf624c",
   "metadata": {},
   "source": [
    "Índices de remuneración $\\mu_B$ y $\\mu_C$ no son iguales."
   ]
  },
  {
   "cell_type": "markdown",
   "id": "236588df-daa7-40e0-a507-f36cf6204630",
   "metadata": {},
   "source": [
    "*Prueba 3*"
   ]
  },
  {
   "cell_type": "markdown",
   "id": "4f08d3fe-9b4e-4f7d-8c39-814a6c03aff9",
   "metadata": {},
   "source": [
    "$H_0$: $\\mu_A = \\mu_C$"
   ]
  },
  {
   "cell_type": "markdown",
   "id": "6806d2e4-5a68-41a0-bdbd-a8a5d820266b",
   "metadata": {},
   "source": [
    "$H_a$: $\\mu_A$ $\\neq$ $\\mu_C$"
   ]
  },
  {
   "cell_type": "markdown",
   "id": "b6df476c-c6f7-47a2-a107-97a1266a63bf",
   "metadata": {},
   "source": [
    "$\\bar{x}_1$"
   ]
  },
  {
   "cell_type": "code",
   "execution_count": 29,
   "id": "2b5ff239-bef0-4a3d-a45d-116b3dc632f0",
   "metadata": {},
   "outputs": [
    {
     "data": {
      "text/plain": [
       "3.56"
      ]
     },
     "execution_count": 29,
     "metadata": {},
     "output_type": "execute_result"
    }
   ],
   "source": [
    "x1"
   ]
  },
  {
   "cell_type": "markdown",
   "id": "290eef3e-93fa-4f47-9efa-c178480457a3",
   "metadata": {},
   "source": [
    "$\\bar{x}_3$"
   ]
  },
  {
   "cell_type": "code",
   "execution_count": 30,
   "id": "76203d6e-cedd-4c23-b529-f085026f2b54",
   "metadata": {},
   "outputs": [
    {
     "data": {
      "text/plain": [
       "10.2"
      ]
     },
     "execution_count": 30,
     "metadata": {},
     "output_type": "execute_result"
    }
   ],
   "source": [
    "x3"
   ]
  },
  {
   "cell_type": "code",
   "execution_count": 31,
   "id": "a1a1d727-021a-4033-baf9-00ce96175475",
   "metadata": {},
   "outputs": [
    {
     "data": {
      "text/plain": [
       "np.True_"
      ]
     },
     "execution_count": 31,
     "metadata": {},
     "output_type": "execute_result"
    }
   ],
   "source": [
    "abs(x1 - x3) > lsd3"
   ]
  },
  {
   "cell_type": "markdown",
   "id": "89d304de-828b-4c37-a618-17507b53c008",
   "metadata": {},
   "source": [
    "$\\therefore$ se rechaza $H_0$"
   ]
  },
  {
   "cell_type": "markdown",
   "id": "678d86a5-a4ad-499f-8743-342a33d26195",
   "metadata": {},
   "source": [
    "Índices de remuneración $\\mu_A$ y $\\mu_C$ no son iguales."
   ]
  }
 ],
 "metadata": {
  "kernelspec": {
   "display_name": "Python 3 (ipykernel)",
   "language": "python",
   "name": "python3"
  },
  "language_info": {
   "codemirror_mode": {
    "name": "ipython",
    "version": 3
   },
   "file_extension": ".py",
   "mimetype": "text/x-python",
   "name": "python",
   "nbconvert_exporter": "python",
   "pygments_lexer": "ipython3",
   "version": "3.12.4"
  }
 },
 "nbformat": 4,
 "nbformat_minor": 5
}
